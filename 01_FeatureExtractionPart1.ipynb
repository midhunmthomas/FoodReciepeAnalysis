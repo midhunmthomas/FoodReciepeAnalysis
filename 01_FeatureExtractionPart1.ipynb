{
 "cells": [
  {
   "cell_type": "markdown",
   "id": "266c1ded-069b-4c98-9257-ddd9fbe4c93b",
   "metadata": {},
   "source": [
    "## Receipe Recommender Assignment - EDA"
   ]
  },
  {
   "cell_type": "markdown",
   "id": "e7343638-a9b2-4ca5-bc1c-a27d30d8ca0e",
   "metadata": {},
   "source": [
    "## Initial Setup"
   ]
  },
  {
   "cell_type": "code",
   "execution_count": 38,
   "id": "e66a3370-2fc1-4687-b2c0-b42520658b3f",
   "metadata": {
    "execution": {
     "iopub.execute_input": "2024-12-03T05:36:08.272310Z",
     "iopub.status.busy": "2024-12-03T05:36:08.271980Z",
     "iopub.status.idle": "2024-12-03T05:37:42.492715Z",
     "shell.execute_reply": "2024-12-03T05:37:42.491677Z",
     "shell.execute_reply.started": "2024-12-03T05:36:08.272276Z"
    },
    "tags": []
   },
   "outputs": [
    {
     "data": {
      "application/vnd.jupyter.widget-view+json": {
       "model_id": "d63b71db8cfa4fc3807293fcce55e1be",
       "version_major": 2,
       "version_minor": 0
      },
      "text/plain": [
       "VBox()"
      ]
     },
     "metadata": {},
     "output_type": "display_data"
    },
    {
     "data": {
      "application/vnd.jupyter.widget-view+json": {
       "model_id": "",
       "version_major": 2,
       "version_minor": 0
      },
      "text/plain": [
       "FloatProgress(value=0.0, bar_style='info', description='Progress:', layout=Layout(height='25px', width='50%'),…"
      ]
     },
     "metadata": {},
     "output_type": "display_data"
    }
   ],
   "source": [
    "from pyspark.sql import SparkSession"
   ]
  },
  {
   "cell_type": "code",
   "execution_count": 3,
   "id": "fb5b8fbe-4ccb-4830-bd78-788acda58492",
   "metadata": {
    "execution": {
     "iopub.execute_input": "2024-12-03T05:38:22.122764Z",
     "iopub.status.busy": "2024-12-03T05:38:22.122481Z",
     "iopub.status.idle": "2024-12-03T05:38:22.249463Z",
     "shell.execute_reply": "2024-12-03T05:38:22.248628Z",
     "shell.execute_reply.started": "2024-12-03T05:38:22.122721Z"
    }
   },
   "outputs": [
    {
     "data": {
      "application/vnd.jupyter.widget-view+json": {
       "model_id": "95ad4c3f632a4d39a968c21d330b98ff",
       "version_major": 2,
       "version_minor": 0
      },
      "text/plain": [
       "VBox()"
      ]
     },
     "metadata": {},
     "output_type": "display_data"
    },
    {
     "data": {
      "application/vnd.jupyter.widget-view+json": {
       "model_id": "",
       "version_major": 2,
       "version_minor": 0
      },
      "text/plain": [
       "FloatProgress(value=0.0, bar_style='info', description='Progress:', layout=Layout(height='25px', width='50%'),…"
      ]
     },
     "metadata": {},
     "output_type": "display_data"
    }
   ],
   "source": [
    "from pyspark.sql import SparkSession\n",
    "spark = SparkSession.builder.appName(\"Basics\").getOrCreate()"
   ]
  },
  {
   "cell_type": "code",
   "execution_count": 4,
   "id": "2307ef5b-6ed5-4347-b526-0431a7eddc24",
   "metadata": {
    "execution": {
     "iopub.execute_input": "2024-12-03T05:39:19.592339Z",
     "iopub.status.busy": "2024-12-03T05:39:19.591699Z",
     "iopub.status.idle": "2024-12-03T05:39:19.673875Z",
     "shell.execute_reply": "2024-12-03T05:39:19.672698Z",
     "shell.execute_reply.started": "2024-12-03T05:39:19.592307Z"
    }
   },
   "outputs": [
    {
     "data": {
      "application/vnd.jupyter.widget-view+json": {
       "model_id": "f68476c4c1f14db2bb3c1cccd9d2b23b",
       "version_major": 2,
       "version_minor": 0
      },
      "text/plain": [
       "VBox()"
      ]
     },
     "metadata": {},
     "output_type": "display_data"
    },
    {
     "data": {
      "application/vnd.jupyter.widget-view+json": {
       "model_id": "",
       "version_major": 2,
       "version_minor": 0
      },
      "text/plain": [
       "FloatProgress(value=0.0, bar_style='info', description='Progress:', layout=Layout(height='25px', width='50%'),…"
      ]
     },
     "metadata": {},
     "output_type": "display_data"
    },
    {
     "name": "stdout",
     "output_type": "stream",
     "text": [
      "<pyspark.sql.session.SparkSession object at 0x7f1e44ec2e50>"
     ]
    }
   ],
   "source": [
    "spark"
   ]
  },
  {
   "cell_type": "code",
   "execution_count": 5,
   "id": "7897ea17-3389-4436-b994-ae4ddcd6a7ab",
   "metadata": {
    "execution": {
     "iopub.execute_input": "2024-12-03T05:39:55.826396Z",
     "iopub.status.busy": "2024-12-03T05:39:55.826142Z",
     "iopub.status.idle": "2024-12-03T05:39:55.904378Z",
     "shell.execute_reply": "2024-12-03T05:39:55.903462Z",
     "shell.execute_reply.started": "2024-12-03T05:39:55.826369Z"
    }
   },
   "outputs": [
    {
     "data": {
      "application/vnd.jupyter.widget-view+json": {
       "model_id": "18d269ef2ad34390bcce6177edd11b23",
       "version_major": 2,
       "version_minor": 0
      },
      "text/plain": [
       "VBox()"
      ]
     },
     "metadata": {},
     "output_type": "display_data"
    },
    {
     "data": {
      "application/vnd.jupyter.widget-view+json": {
       "model_id": "",
       "version_major": 2,
       "version_minor": 0
      },
      "text/plain": [
       "FloatProgress(value=0.0, bar_style='info', description='Progress:', layout=Layout(height='25px', width='50%'),…"
      ]
     },
     "metadata": {},
     "output_type": "display_data"
    }
   ],
   "source": [
    "from pyspark.sql import functions as F\n",
    "\n",
    "# Import for typecasting columns\n",
    "from pyspark.sql.types import IntegerType,BooleanType,DateType,FloatType,StringType\n",
    "from pyspark.sql.types import ArrayType"
   ]
  },
  {
   "cell_type": "markdown",
   "id": "8e1f39df-1e5c-4fc9-9808-ff883e3e50f3",
   "metadata": {},
   "source": [
    " ## <font color='red'>Task 01: Read the data </font>"
   ]
  },
  {
   "cell_type": "code",
   "execution_count": 6,
   "id": "f9c3d9d6-ccdf-4626-9f79-8043c1c77dd4",
   "metadata": {
    "execution": {
     "iopub.execute_input": "2024-12-03T05:44:05.772259Z",
     "iopub.status.busy": "2024-12-03T05:44:05.772040Z",
     "iopub.status.idle": "2024-12-03T05:44:25.198488Z",
     "shell.execute_reply": "2024-12-03T05:44:25.197389Z",
     "shell.execute_reply.started": "2024-12-03T05:44:05.772235Z"
    },
    "tags": []
   },
   "outputs": [
    {
     "data": {
      "application/vnd.jupyter.widget-view+json": {
       "model_id": "5394df23ad674b149a61f5066c1248f5",
       "version_major": 2,
       "version_minor": 0
      },
      "text/plain": [
       "VBox()"
      ]
     },
     "metadata": {},
     "output_type": "display_data"
    },
    {
     "data": {
      "application/vnd.jupyter.widget-view+json": {
       "model_id": "",
       "version_major": 2,
       "version_minor": 0
      },
      "text/plain": [
       "FloatProgress(value=0.0, bar_style='info', description='Progress:', layout=Layout(height='25px', width='50%'),…"
      ]
     },
     "metadata": {},
     "output_type": "display_data"
    },
    {
     "name": "stdout",
     "output_type": "stream",
     "text": [
      "+--------------------+------+-------+--------------+----------+--------------------+--------------------+-------+--------------------+--------------------+--------------------+-------------+\n",
      "|                name|    id|minutes|contributor_id| submitted|                tags|           nutrition|n_steps|               steps|         description|         ingredients|n_ingredients|\n",
      "+--------------------+------+-------+--------------+----------+--------------------+--------------------+-------+--------------------+--------------------+--------------------+-------------+\n",
      "|arriba   baked wi...|137739|     55|         47892|2005-09-16|['60-minutes-or-l...|[51.5, 0.0, 13.0,...|     11|['make a choice a...|autumn is my favo...|['winter squash',...|            7|\n",
      "|a bit different  ...| 31490|     30|         26278|2002-06-17|['30-minutes-or-l...|[173.4, 18.0, 0.0...|      9|['preheat oven to...|this recipe calls...|['prepared pizza ...|            6|\n",
      "|all in the kitche...|112140|    130|        196586|2005-02-25|['time-to-make', ...|[269.8, 22.0, 32....|      6|['brown ground be...|this modified ver...|['ground beef', '...|           13|\n",
      "|  alouette  potatoes| 59389|     45|         68585|2003-04-14|['60-minutes-or-l...|[368.1, 17.0, 10....|     11|['place potatoes ...|this is a super e...|['spreadable chee...|           11|\n",
      "|amish  tomato ket...| 44061|    190|         41706|2002-10-25|['weeknight', 'ti...|[352.9, 1.0, 337....|      5|['mix all ingredi...|my dh's amish mot...|['tomato juice', ...|            8|\n",
      "+--------------------+------+-------+--------------+----------+--------------------+--------------------+-------+--------------------+--------------------+--------------------+-------------+\n",
      "only showing top 5 rows"
     ]
    }
   ],
   "source": [
    "# Task 01 Cell 1 out of 1\n",
    "\n",
    "raw_recipes_df = (spark.read.csv(\"s3://samplesparkbucket/RAW_recipes_cleaned.csv\",header=True,inferSchema=True\n",
    "                   # argument 1, Add an argument to communicate to the compiler that there is a header in the raw data.\n",
    "                   # argument 2, Add an argument to ask the complier to estimate the data types for all columns. \n",
    "                               ))\n",
    "\n",
    "# Please forward the exact name of data frames and columns as suggested in the code. \n",
    "# It will ensure that the assert commands function correctly.  \n",
    "raw_recipes_df.show(5)"
   ]
  },
  {
   "cell_type": "markdown",
   "id": "42eca402-0a00-4dad-b3ca-93c6d8b32199",
   "metadata": {},
   "source": [
    "<font color='blue'>Test cases for Task 01</font>"
   ]
  },
  {
   "cell_type": "code",
   "execution_count": 7,
   "id": "9a5723ff-5492-4f77-a2a4-8c676b5d8a73",
   "metadata": {
    "execution": {
     "iopub.execute_input": "2024-12-03T05:46:03.273460Z",
     "iopub.status.busy": "2024-12-03T05:46:03.273033Z",
     "iopub.status.idle": "2024-12-03T05:46:03.344786Z",
     "shell.execute_reply": "2024-12-03T05:46:03.343986Z",
     "shell.execute_reply.started": "2024-12-03T05:46:03.273432Z"
    }
   },
   "outputs": [
    {
     "data": {
      "application/vnd.jupyter.widget-view+json": {
       "model_id": "d217d7742258451dbd63a1fbda4fdda1",
       "version_major": 2,
       "version_minor": 0
      },
      "text/plain": [
       "VBox()"
      ]
     },
     "metadata": {},
     "output_type": "display_data"
    },
    {
     "data": {
      "application/vnd.jupyter.widget-view+json": {
       "model_id": "",
       "version_major": 2,
       "version_minor": 0
      },
      "text/plain": [
       "FloatProgress(value=0.0, bar_style='info', description='Progress:', layout=Layout(height='25px', width='50%'),…"
      ]
     },
     "metadata": {},
     "output_type": "display_data"
    },
    {
     "name": "stdout",
     "output_type": "stream",
     "text": [
      "root\n",
      " |-- name: string (nullable = true)\n",
      " |-- id: integer (nullable = true)\n",
      " |-- minutes: integer (nullable = true)\n",
      " |-- contributor_id: integer (nullable = true)\n",
      " |-- submitted: date (nullable = true)\n",
      " |-- tags: string (nullable = true)\n",
      " |-- nutrition: string (nullable = true)\n",
      " |-- n_steps: integer (nullable = true)\n",
      " |-- steps: string (nullable = true)\n",
      " |-- description: string (nullable = true)\n",
      " |-- ingredients: string (nullable = true)\n",
      " |-- n_ingredients: integer (nullable = true)"
     ]
    }
   ],
   "source": [
    "#verifying data types\n",
    "raw_recipes_df.printSchema()"
   ]
  },
  {
   "cell_type": "code",
   "execution_count": 8,
   "id": "10ea9aff-a278-479a-bd57-01e2edf4bcbe",
   "metadata": {
    "execution": {
     "iopub.execute_input": "2024-12-03T05:47:15.872732Z",
     "iopub.status.busy": "2024-12-03T05:47:15.872502Z",
     "iopub.status.idle": "2024-12-03T05:47:16.144370Z",
     "shell.execute_reply": "2024-12-03T05:47:16.143611Z",
     "shell.execute_reply.started": "2024-12-03T05:47:15.872706Z"
    }
   },
   "outputs": [
    {
     "data": {
      "application/vnd.jupyter.widget-view+json": {
       "model_id": "45d1fdb51e8c4db1a8a6e1e5a0de880c",
       "version_major": 2,
       "version_minor": 0
      },
      "text/plain": [
       "VBox()"
      ]
     },
     "metadata": {},
     "output_type": "display_data"
    },
    {
     "data": {
      "application/vnd.jupyter.widget-view+json": {
       "model_id": "",
       "version_major": 2,
       "version_minor": 0
      },
      "text/plain": [
       "FloatProgress(value=0.0, bar_style='info', description='Progress:', layout=Layout(height='25px', width='50%'),…"
      ]
     },
     "metadata": {},
     "output_type": "display_data"
    },
    {
     "name": "stdout",
     "output_type": "stream",
     "text": [
      "12"
     ]
    }
   ],
   "source": [
    "#Counting the Number of Columns in the DataFrame\n",
    "len(raw_recipes_df.columns)"
   ]
  },
  {
   "cell_type": "code",
   "execution_count": 9,
   "id": "4a2c1b56-0e7b-4a01-9dfe-36bc3a27e55a",
   "metadata": {
    "execution": {
     "iopub.execute_input": "2024-12-03T05:47:41.172543Z",
     "iopub.status.busy": "2024-12-03T05:47:41.172326Z",
     "iopub.status.idle": "2024-12-03T05:47:54.588191Z",
     "shell.execute_reply": "2024-12-03T05:47:54.587399Z",
     "shell.execute_reply.started": "2024-12-03T05:47:41.172519Z"
    }
   },
   "outputs": [
    {
     "data": {
      "application/vnd.jupyter.widget-view+json": {
       "model_id": "f63432b5728c459fb94fa6501bc9256d",
       "version_major": 2,
       "version_minor": 0
      },
      "text/plain": [
       "VBox()"
      ]
     },
     "metadata": {},
     "output_type": "display_data"
    },
    {
     "data": {
      "application/vnd.jupyter.widget-view+json": {
       "model_id": "",
       "version_major": 2,
       "version_minor": 0
      },
      "text/plain": [
       "FloatProgress(value=0.0, bar_style='info', description='Progress:', layout=Layout(height='25px', width='50%'),…"
      ]
     },
     "metadata": {},
     "output_type": "display_data"
    },
    {
     "name": "stdout",
     "output_type": "stream",
     "text": [
      "231637"
     ]
    }
   ],
   "source": [
    "#checking the number of rows in dataframe\n",
    "raw_recipes_df.count()"
   ]
  },
  {
   "cell_type": "code",
   "execution_count": 10,
   "id": "714bd48b-ef44-4a6c-acd0-43ceeaae9daa",
   "metadata": {
    "execution": {
     "iopub.execute_input": "2024-12-03T05:49:36.332247Z",
     "iopub.status.busy": "2024-12-03T05:49:36.332017Z",
     "iopub.status.idle": "2024-12-03T05:49:49.729479Z",
     "shell.execute_reply": "2024-12-03T05:49:49.728790Z",
     "shell.execute_reply.started": "2024-12-03T05:49:36.332221Z"
    },
    "tags": []
   },
   "outputs": [
    {
     "data": {
      "application/vnd.jupyter.widget-view+json": {
       "model_id": "53ff1c118b8e4fbb872f08582e9eac5c",
       "version_major": 2,
       "version_minor": 0
      },
      "text/plain": [
       "VBox()"
      ]
     },
     "metadata": {},
     "output_type": "display_data"
    },
    {
     "data": {
      "application/vnd.jupyter.widget-view+json": {
       "model_id": "",
       "version_major": 2,
       "version_minor": 0
      },
      "text/plain": [
       "FloatProgress(value=0.0, bar_style='info', description='Progress:', layout=Layout(height='25px', width='50%'),…"
      ]
     },
     "metadata": {},
     "output_type": "display_data"
    }
   ],
   "source": [
    "# Code check cell\n",
    "# Do not edit cells with assert commands\n",
    "# If an error is shown after running this cell, please recheck your code.  \n",
    "\n",
    "assert raw_recipes_df.count() == 231637, \"There is a mistake in reading the data.\"\n",
    "assert len(raw_recipes_df.columns) == 12, \"There is a mistake in reading the data.\"\n",
    "assert raw_recipes_df.schema[\"minutes\"].dataType == IntegerType(), \"The data types have not been read correctly.\"\n",
    "assert raw_recipes_df.schema[\"tags\"].dataType == StringType(), \"The data types have not been read correctly.\"\n",
    "assert raw_recipes_df.schema[\"n_ingredients\"].dataType == IntegerType(), \"The data types have not been read correctly.\""
   ]
  },
  {
   "cell_type": "markdown",
   "id": "944edf23-6c24-4dd1-85b4-38cfa7c3e4aa",
   "metadata": {},
   "source": [
    "### Observations\n",
    "* The data has been loaded successfully, and the data types are accurate.\n",
    "* The raw_recipes_df DataFrame contains 12 columns and 231,637 rows"
   ]
  },
  {
   "cell_type": "markdown",
   "id": "643d2202-06cb-4bcb-905a-2bf71286a914",
   "metadata": {},
   "source": [
    "## Extract ```nutrition``` values "
   ]
  },
  {
   "cell_type": "code",
   "execution_count": 11,
   "id": "99208c92-97c9-4590-8196-69efbb0f7572",
   "metadata": {
    "execution": {
     "iopub.execute_input": "2024-12-03T05:55:29.562993Z",
     "iopub.status.busy": "2024-12-03T05:55:29.562749Z",
     "iopub.status.idle": "2024-12-03T05:55:29.620774Z",
     "shell.execute_reply": "2024-12-03T05:55:29.619774Z",
     "shell.execute_reply.started": "2024-12-03T05:55:29.562966Z"
    }
   },
   "outputs": [
    {
     "data": {
      "application/vnd.jupyter.widget-view+json": {
       "model_id": "a654df433847484ab632ec3823276df2",
       "version_major": 2,
       "version_minor": 0
      },
      "text/plain": [
       "VBox()"
      ]
     },
     "metadata": {},
     "output_type": "display_data"
    },
    {
     "data": {
      "application/vnd.jupyter.widget-view+json": {
       "model_id": "",
       "version_major": 2,
       "version_minor": 0
      },
      "text/plain": [
       "FloatProgress(value=0.0, bar_style='info', description='Progress:', layout=Layout(height='25px', width='50%'),…"
      ]
     },
     "metadata": {},
     "output_type": "display_data"
    }
   ],
   "source": [
    "# List of nutrition columns\n",
    "\n",
    "nutrition_column_names = ['calories',\n",
    "                          'total_fat_PDV',\n",
    "                          'sugar_PDV',\n",
    "                          'sodium_PDV',\n",
    "                          'protein_PDV',\n",
    "                          'saturated_fat_PDV',\n",
    "                          'carbohydrates_PDV']"
   ]
  },
  {
   "cell_type": "markdown",
   "id": "e3d4e8f7-500a-4b2f-af3b-4b7ba97c3e3f",
   "metadata": {},
   "source": [
    " ## <font color='red'>Task 02: Extract individual features from the nutrition column."
   ]
  },
  {
   "cell_type": "markdown",
   "id": "c8c849ae-a91a-4b01-941c-79b5e562b89d",
   "metadata": {},
   "source": [
    "### <font color='blue'>Solution to Task 2 </font>"
   ]
  },
  {
   "cell_type": "code",
   "execution_count": 12,
   "id": "7e092aa4-19ba-411a-94b8-03683e38e41e",
   "metadata": {
    "execution": {
     "iopub.execute_input": "2024-12-03T05:59:02.325388Z",
     "iopub.status.busy": "2024-12-03T05:59:02.325162Z",
     "iopub.status.idle": "2024-12-03T05:59:02.604311Z",
     "shell.execute_reply": "2024-12-03T05:59:02.603501Z",
     "shell.execute_reply.started": "2024-12-03T05:59:02.325363Z"
    }
   },
   "outputs": [
    {
     "data": {
      "application/vnd.jupyter.widget-view+json": {
       "model_id": "9f049cdb44b94d8cb6234cd7a0e4e09c",
       "version_major": 2,
       "version_minor": 0
      },
      "text/plain": [
       "VBox()"
      ]
     },
     "metadata": {},
     "output_type": "display_data"
    },
    {
     "data": {
      "application/vnd.jupyter.widget-view+json": {
       "model_id": "",
       "version_major": 2,
       "version_minor": 0
      },
      "text/plain": [
       "FloatProgress(value=0.0, bar_style='info', description='Progress:', layout=Layout(height='25px', width='50%'),…"
      ]
     },
     "metadata": {},
     "output_type": "display_data"
    }
   ],
   "source": [
    "# Task 02 Cell 1 out of 2\n",
    "# 2.1 - string operations to remove square brakets\n",
    "\n",
    "raw_recipes_df = (raw_recipes_df\n",
    "                  .withColumn('nutrition', F.regexp_replace(\"nutrition\",r\"\\[|\\]\",\"\")\n",
    "                             # add code to remove square brackets\n",
    "                             # pyspark function to replace string characters \n",
    "                             ))"
   ]
  },
  {
   "cell_type": "code",
   "execution_count": 13,
   "id": "f76645c8-da3e-4635-b7c2-cd30a2f7fa0a",
   "metadata": {
    "execution": {
     "iopub.execute_input": "2024-12-03T06:01:04.682416Z",
     "iopub.status.busy": "2024-12-03T06:01:04.682187Z",
     "iopub.status.idle": "2024-12-03T06:01:04.953650Z",
     "shell.execute_reply": "2024-12-03T06:01:04.952683Z",
     "shell.execute_reply.started": "2024-12-03T06:01:04.682389Z"
    }
   },
   "outputs": [
    {
     "data": {
      "application/vnd.jupyter.widget-view+json": {
       "model_id": "c847f6483a444273946f4943066ba248",
       "version_major": 2,
       "version_minor": 0
      },
      "text/plain": [
       "VBox()"
      ]
     },
     "metadata": {},
     "output_type": "display_data"
    },
    {
     "data": {
      "application/vnd.jupyter.widget-view+json": {
       "model_id": "",
       "version_major": 2,
       "version_minor": 0
      },
      "text/plain": [
       "FloatProgress(value=0.0, bar_style='info', description='Progress:', layout=Layout(height='25px', width='50%'),…"
      ]
     },
     "metadata": {},
     "output_type": "display_data"
    }
   ],
   "source": [
    "# Task 02 Cell 2 out of 3\n",
    "# STEP 2.2 - Split the nutrition string into seven separate values. \n",
    "# Create an object to split the nutrition column\n",
    "\n",
    "nutrition_cols_split = F.split(raw_recipes_df.nutrition,\",\") # pyspark function to split values based on a delimiter.  \n",
    "\n",
    "# Write a loop to extract individual values from the nutrition column\n",
    "\n",
    "for col_index, col_name in enumerate(nutrition_column_names):\n",
    "    # col_index holds the index number of each column, e.g., calories will be 0\n",
    "    # col_name holds the name of each column \n",
    "    \n",
    "    raw_recipes_df = (raw_recipes_df.withColumn(col_name,nutrition_cols_split.getItem(col_index).cast(\"float\")\n",
    "                                        # pyspark function to extract individual values from the nutrition_cols_split object\n",
    "                                        # You can also cast the extracted value to floats in the same code. \n",
    "                                               ))"
   ]
  },
  {
   "cell_type": "code",
   "execution_count": 14,
   "id": "0baaa4d5-f8cc-44d6-8681-6e00760cd142",
   "metadata": {
    "execution": {
     "iopub.execute_input": "2024-12-03T06:01:29.702925Z",
     "iopub.status.busy": "2024-12-03T06:01:29.702666Z",
     "iopub.status.idle": "2024-12-03T06:02:01.153303Z",
     "shell.execute_reply": "2024-12-03T06:02:01.152500Z",
     "shell.execute_reply.started": "2024-12-03T06:01:29.702889Z"
    }
   },
   "outputs": [
    {
     "data": {
      "application/vnd.jupyter.widget-view+json": {
       "model_id": "3620d9baf61c4017aca7c593de59b836",
       "version_major": 2,
       "version_minor": 0
      },
      "text/plain": [
       "VBox()"
      ]
     },
     "metadata": {},
     "output_type": "display_data"
    },
    {
     "data": {
      "application/vnd.jupyter.widget-view+json": {
       "model_id": "",
       "version_major": 2,
       "version_minor": 0
      },
      "text/plain": [
       "FloatProgress(value=0.0, bar_style='info', description='Progress:', layout=Layout(height='25px', width='50%'),…"
      ]
     },
     "metadata": {},
     "output_type": "display_data"
    }
   ],
   "source": [
    "# Code check cell\n",
    "# Do not edit cells with assert commands\n",
    "# If an error is shown after running this cell, please recheck your code.  \n",
    "\n",
    "assert raw_recipes_df.schema[\"carbohydrates_PDV\"].dataType == FloatType(), \"Recheck your typecasting\"\n",
    "assert raw_recipes_df.collect()[123432][14] == 62.0, \"The columns have not been split correctly.\"\n",
    "assert raw_recipes_df.collect()[10000][12] == 60.400001525878906, \"The columns have not been split correctly.\""
   ]
  },
  {
   "cell_type": "code",
   "execution_count": 15,
   "id": "e25a26d9-41c2-4b4b-8794-c2d0fd9e6ae3",
   "metadata": {
    "execution": {
     "iopub.execute_input": "2024-12-03T06:02:53.077698Z",
     "iopub.status.busy": "2024-12-03T06:02:53.077475Z",
     "iopub.status.idle": "2024-12-03T06:02:53.867131Z",
     "shell.execute_reply": "2024-12-03T06:02:53.866254Z",
     "shell.execute_reply.started": "2024-12-03T06:02:53.077674Z"
    }
   },
   "outputs": [
    {
     "data": {
      "application/vnd.jupyter.widget-view+json": {
       "model_id": "43f74a5837d441738cf5e7917b2f8182",
       "version_major": 2,
       "version_minor": 0
      },
      "text/plain": [
       "VBox()"
      ]
     },
     "metadata": {},
     "output_type": "display_data"
    },
    {
     "data": {
      "application/vnd.jupyter.widget-view+json": {
       "model_id": "",
       "version_major": 2,
       "version_minor": 0
      },
      "text/plain": [
       "FloatProgress(value=0.0, bar_style='info', description='Progress:', layout=Layout(height='25px', width='50%'),…"
      ]
     },
     "metadata": {},
     "output_type": "display_data"
    },
    {
     "name": "stdout",
     "output_type": "stream",
     "text": [
      "+------+----------------------------------------+\n",
      "|id    |nutrition                               |\n",
      "+------+----------------------------------------+\n",
      "|137739|51.5, 0.0, 13.0, 0.0, 2.0, 0.0, 4.0     |\n",
      "|31490 |173.4, 18.0, 0.0, 17.0, 22.0, 35.0, 1.0 |\n",
      "|112140|269.8, 22.0, 32.0, 48.0, 39.0, 27.0, 5.0|\n",
      "|59389 |368.1, 17.0, 10.0, 2.0, 14.0, 8.0, 20.0 |\n",
      "|44061 |352.9, 1.0, 337.0, 23.0, 3.0, 0.0, 28.0 |\n",
      "+------+----------------------------------------+\n",
      "only showing top 5 rows"
     ]
    }
   ],
   "source": [
    "# Verifying if the square brackets have been removed.\n",
    "raw_recipes_df.select(\"id\",\"nutrition\").show(5,truncate=False)"
   ]
  },
  {
   "cell_type": "code",
   "execution_count": 16,
   "id": "a0e1b339-0a3d-441f-8626-e964f0b6e7b2",
   "metadata": {
    "execution": {
     "iopub.execute_input": "2024-12-03T06:03:13.642626Z",
     "iopub.status.busy": "2024-12-03T06:03:13.642391Z",
     "iopub.status.idle": "2024-12-03T06:03:13.701001Z",
     "shell.execute_reply": "2024-12-03T06:03:13.700336Z",
     "shell.execute_reply.started": "2024-12-03T06:03:13.642601Z"
    }
   },
   "outputs": [
    {
     "data": {
      "application/vnd.jupyter.widget-view+json": {
       "model_id": "e3dabd9077f8488388e7bc3815c9b276",
       "version_major": 2,
       "version_minor": 0
      },
      "text/plain": [
       "VBox()"
      ]
     },
     "metadata": {},
     "output_type": "display_data"
    },
    {
     "data": {
      "application/vnd.jupyter.widget-view+json": {
       "model_id": "",
       "version_major": 2,
       "version_minor": 0
      },
      "text/plain": [
       "FloatProgress(value=0.0, bar_style='info', description='Progress:', layout=Layout(height='25px', width='50%'),…"
      ]
     },
     "metadata": {},
     "output_type": "display_data"
    },
    {
     "name": "stdout",
     "output_type": "stream",
     "text": [
      "root\n",
      " |-- name: string (nullable = true)\n",
      " |-- id: integer (nullable = true)\n",
      " |-- minutes: integer (nullable = true)\n",
      " |-- contributor_id: integer (nullable = true)\n",
      " |-- submitted: date (nullable = true)\n",
      " |-- tags: string (nullable = true)\n",
      " |-- nutrition: string (nullable = true)\n",
      " |-- n_steps: integer (nullable = true)\n",
      " |-- steps: string (nullable = true)\n",
      " |-- description: string (nullable = true)\n",
      " |-- ingredients: string (nullable = true)\n",
      " |-- n_ingredients: integer (nullable = true)\n",
      " |-- calories: float (nullable = true)\n",
      " |-- total_fat_PDV: float (nullable = true)\n",
      " |-- sugar_PDV: float (nullable = true)\n",
      " |-- sodium_PDV: float (nullable = true)\n",
      " |-- protein_PDV: float (nullable = true)\n",
      " |-- saturated_fat_PDV: float (nullable = true)\n",
      " |-- carbohydrates_PDV: float (nullable = true)"
     ]
    }
   ],
   "source": [
    "# Checking the datatype and verifying the newly added columns\n",
    "raw_recipes_df.printSchema()"
   ]
  },
  {
   "cell_type": "code",
   "execution_count": 17,
   "id": "bde57794-06d6-4913-8c20-7836b3563757",
   "metadata": {
    "execution": {
     "iopub.execute_input": "2024-12-03T06:03:47.772373Z",
     "iopub.status.busy": "2024-12-03T06:03:47.772112Z",
     "iopub.status.idle": "2024-12-03T06:03:47.834405Z",
     "shell.execute_reply": "2024-12-03T06:03:47.833676Z",
     "shell.execute_reply.started": "2024-12-03T06:03:47.772345Z"
    }
   },
   "outputs": [
    {
     "data": {
      "application/vnd.jupyter.widget-view+json": {
       "model_id": "672806d581024c97829594e18e11bb99",
       "version_major": 2,
       "version_minor": 0
      },
      "text/plain": [
       "VBox()"
      ]
     },
     "metadata": {},
     "output_type": "display_data"
    },
    {
     "data": {
      "application/vnd.jupyter.widget-view+json": {
       "model_id": "",
       "version_major": 2,
       "version_minor": 0
      },
      "text/plain": [
       "FloatProgress(value=0.0, bar_style='info', description='Progress:', layout=Layout(height='25px', width='50%'),…"
      ]
     },
     "metadata": {},
     "output_type": "display_data"
    },
    {
     "name": "stdout",
     "output_type": "stream",
     "text": [
      "19"
     ]
    }
   ],
   "source": [
    "#After adding the columns , checking the number of columns\n",
    "len(raw_recipes_df.columns)"
   ]
  },
  {
   "cell_type": "markdown",
   "id": "d8ca7522-bdf1-4944-ac34-5e23ccb9fa58",
   "metadata": {},
   "source": [
    "### Observations:\n",
    "* Successfully split the column and added the new columns."
   ]
  },
  {
   "cell_type": "markdown",
   "id": "b0c88b6f-9531-4c26-a39e-2393bec93eb2",
   "metadata": {},
   "source": [
    "## Create Nutrition-per-100-Calorie Columns\n",
    "Converting the nutrition values from absolute to relative terms ensures that portion size does not influence the analysis."
   ]
  },
  {
   "cell_type": "markdown",
   "id": "f97b453b-15af-4f85-a2d7-3f1fce1ebcac",
   "metadata": {},
   "source": [
    "## <font color='red'>Task 03: Standardize the nutrition values </font>"
   ]
  },
  {
   "cell_type": "markdown",
   "id": "153ae346-eee0-4eb9-8954-2ff7d462a08b",
   "metadata": {
    "execution": {
     "iopub.execute_input": "2024-12-03T06:06:10.053051Z",
     "iopub.status.busy": "2024-12-03T06:06:10.052818Z",
     "iopub.status.idle": "2024-12-03T06:06:10.112056Z",
     "shell.execute_reply": "2024-12-03T06:06:10.108878Z",
     "shell.execute_reply.started": "2024-12-03T06:06:10.053025Z"
    }
   },
   "source": [
    "### <font color='blue'>Solution to Task 3 </font>"
   ]
  },
  {
   "cell_type": "code",
   "execution_count": 18,
   "id": "4bf0c38e-7f7a-4905-8aa3-561bd5ee91d3",
   "metadata": {
    "execution": {
     "iopub.execute_input": "2024-12-03T06:08:47.442618Z",
     "iopub.status.busy": "2024-12-03T06:08:47.442390Z",
     "iopub.status.idle": "2024-12-03T06:08:48.217992Z",
     "shell.execute_reply": "2024-12-03T06:08:48.216562Z",
     "shell.execute_reply.started": "2024-12-03T06:08:47.442593Z"
    }
   },
   "outputs": [
    {
     "data": {
      "application/vnd.jupyter.widget-view+json": {
       "model_id": "5208050fa3b1467c831eac14d434769c",
       "version_major": 2,
       "version_minor": 0
      },
      "text/plain": [
       "VBox()"
      ]
     },
     "metadata": {},
     "output_type": "display_data"
    },
    {
     "data": {
      "application/vnd.jupyter.widget-view+json": {
       "model_id": "",
       "version_major": 2,
       "version_minor": 0
      },
      "text/plain": [
       "FloatProgress(value=0.0, bar_style='info', description='Progress:', layout=Layout(height='25px', width='50%'),…"
      ]
     },
     "metadata": {},
     "output_type": "display_data"
    }
   ],
   "source": [
    "for nutrition_col in nutrition_column_names:  # Loop through each of the newly created nutrition columns\n",
    "    if nutrition_col != \"calories\":  # Exclude the calories column from this transformation\n",
    "        # Create a name for the new column based on the nutrition column\n",
    "        nutrition_per_100_cal_col = (nutrition_col\n",
    "                                     .replace('_PDV', '')  # Remove '_PDV' from the column name\n",
    "                                     + '_per_100_cal')  # Append '_per_100_cal' to the column name\n",
    "                                     \n",
    "        # Perform the transformation to calculate the nutrition per 100 calories\n",
    "        raw_recipes_df = raw_recipes_df.withColumn(\n",
    "            nutrition_per_100_cal_col, \n",
    "            raw_recipes_df[nutrition_col] * 100 / raw_recipes_df[\"calories\"]  # Compute nutrition per 100 calories\n",
    "        )\n",
    "        \n",
    "        # Handle null values resulting from the transformation by filling them with 0\n",
    "        raw_recipes_df = raw_recipes_df.fillna(0, subset=[nutrition_per_100_cal_col])  # Fill nulls with 0 only in the current column\n"
   ]
  },
  {
   "cell_type": "code",
   "execution_count": 19,
   "id": "d96c8a17-8923-4592-a956-d1fc8eda4cb3",
   "metadata": {
    "execution": {
     "iopub.execute_input": "2024-12-03T06:09:38.262235Z",
     "iopub.status.busy": "2024-12-03T06:09:38.262018Z",
     "iopub.status.idle": "2024-12-03T06:09:47.610555Z",
     "shell.execute_reply": "2024-12-03T06:09:47.609598Z",
     "shell.execute_reply.started": "2024-12-03T06:09:38.262210Z"
    }
   },
   "outputs": [
    {
     "data": {
      "application/vnd.jupyter.widget-view+json": {
       "model_id": "8c98575f0c0d403888729c80ead7c81f",
       "version_major": 2,
       "version_minor": 0
      },
      "text/plain": [
       "VBox()"
      ]
     },
     "metadata": {},
     "output_type": "display_data"
    },
    {
     "data": {
      "application/vnd.jupyter.widget-view+json": {
       "model_id": "",
       "version_major": 2,
       "version_minor": 0
      },
      "text/plain": [
       "FloatProgress(value=0.0, bar_style='info', description='Progress:', layout=Layout(height='25px', width='50%'),…"
      ]
     },
     "metadata": {},
     "output_type": "display_data"
    },
    {
     "name": "stdout",
     "output_type": "stream",
     "text": [
      "+------+---------------------+------------------+------------------+-------------------------+-------------------------+\n",
      "|id    |total_fat_per_100_cal|sugar_per_100_cal |sodium_per_100_cal|saturated_fat_per_100_cal|carbohydrates_per_100_cal|\n",
      "+------+---------------------+------------------+------------------+-------------------------+-------------------------+\n",
      "|137739|0.0                  |25.24271844660194 |0.0               |0.0                      |7.766990291262136        |\n",
      "|31490 |10.380623202758338   |0.0               |9.80392191371621  |20.18454511647455        |0.5767012890421299       |\n",
      "|112140|8.154188656554616    |11.860638045897625|17.79095706884644 |10.007413351226122       |1.8532246946715039       |\n",
      "|59389 |4.618310165205302    |2.71665303835606  |0.543330607671212 |2.173322430684848        |5.43330607671212         |\n",
      "|44061 |0.2833663976467306   |95.49447600694822 |6.517427145874804 |0.0                      |7.934259134108458        |\n",
      "+------+---------------------+------------------+------------------+-------------------------+-------------------------+\n",
      "only showing top 5 rows"
     ]
    }
   ],
   "source": [
    "# Displaying the standardized columns.\n",
    "raw_recipes_df.select(\"id\",\"total_fat_per_100_cal\",\"sugar_per_100_cal\",\"sodium_per_100_cal\",\"saturated_fat_per_100_cal\",\"carbohydrates_per_100_cal\").show(5,truncate=False)"
   ]
  },
  {
   "cell_type": "markdown",
   "id": "4f5cf57e-98fe-4faa-bfe2-0474d3a50b10",
   "metadata": {},
   "source": [
    "**Test cases for Task 03**"
   ]
  },
  {
   "cell_type": "code",
   "execution_count": 20,
   "id": "81eabb69-84a7-4f06-9fdb-f6f9bd68de9f",
   "metadata": {
    "execution": {
     "iopub.execute_input": "2024-12-03T06:10:30.182838Z",
     "iopub.status.busy": "2024-12-03T06:10:30.182611Z",
     "iopub.status.idle": "2024-12-03T06:10:57.730169Z",
     "shell.execute_reply": "2024-12-03T06:10:57.729299Z",
     "shell.execute_reply.started": "2024-12-03T06:10:30.182814Z"
    },
    "tags": []
   },
   "outputs": [
    {
     "data": {
      "application/vnd.jupyter.widget-view+json": {
       "model_id": "107115e592bb4b10bc7af14cac8575bc",
       "version_major": 2,
       "version_minor": 0
      },
      "text/plain": [
       "VBox()"
      ]
     },
     "metadata": {},
     "output_type": "display_data"
    },
    {
     "data": {
      "application/vnd.jupyter.widget-view+json": {
       "model_id": "",
       "version_major": 2,
       "version_minor": 0
      },
      "text/plain": [
       "FloatProgress(value=0.0, bar_style='info', description='Progress:', layout=Layout(height='25px', width='50%'),…"
      ]
     },
     "metadata": {},
     "output_type": "display_data"
    }
   ],
   "source": [
    "# total fat check for id 28881\n",
    "assert raw_recipes_df.filter(\"id == 28881\").select('total_fat_per_100_cal').first()[0] == 0, \"total_fat_per_100_cal for recipe 28881 should be 0\"\n",
    "\n",
    "# total fat check for id 112140\n",
    "assert round(raw_recipes_df.filter(\"id == 112140\").select('total_fat_per_100_cal').first()[0]) == 8, \"total_fat_per_100_cal for recipe 112140 should be 8\"\n",
    "\n",
    "# checking for nulls\n",
    "for c in ['total_fat_per_100_cal','sugar_per_100_cal','sodium_per_100_cal','protein_per_100_cal',\n",
    "                          'saturated_fat_per_100_cal','carbohydrates_per_100_cal']:\n",
    "    assert raw_recipes_df.select(F.count(F.when(F.isnan(c) | F.col(c).isNull(), c)).alias(c)).collect()[0][0] == 0, \"There are Nulls in the data\""
   ]
  },
  {
   "cell_type": "markdown",
   "id": "703dd2fb-e5d3-4850-80c6-1673f41dcc2f",
   "metadata": {
    "execution": {
     "iopub.execute_input": "2024-12-03T06:11:55.697424Z",
     "iopub.status.busy": "2024-12-03T06:11:55.697192Z",
     "iopub.status.idle": "2024-12-03T06:11:55.753922Z",
     "shell.execute_reply": "2024-12-03T06:11:55.753255Z",
     "shell.execute_reply.started": "2024-12-03T06:11:55.697400Z"
    }
   },
   "source": [
    "### Observations:\n",
    "* Standardized the nutrition values"
   ]
  },
  {
   "cell_type": "markdown",
   "id": "d615342a-8474-4693-bb03-6112ff22715c",
   "metadata": {},
   "source": [
    "## <font color='red'>Task 04: Convert the tags column from a string to an array of strings </font>"
   ]
  },
  {
   "cell_type": "markdown",
   "id": "740d5384-7f3d-478b-8e0e-7ffb4b1d6f49",
   "metadata": {},
   "source": [
    "### <font color='blue'>Solution to Task 4 </font>"
   ]
  },
  {
   "cell_type": "code",
   "execution_count": 21,
   "id": "fb06d734-8e94-4670-9586-95401cc5f6ab",
   "metadata": {
    "execution": {
     "iopub.execute_input": "2024-12-03T06:12:58.322310Z",
     "iopub.status.busy": "2024-12-03T06:12:58.322064Z",
     "iopub.status.idle": "2024-12-03T06:12:58.591272Z",
     "shell.execute_reply": "2024-12-03T06:12:58.590637Z",
     "shell.execute_reply.started": "2024-12-03T06:12:58.322280Z"
    }
   },
   "outputs": [
    {
     "data": {
      "application/vnd.jupyter.widget-view+json": {
       "model_id": "619501f678184337a15fa3341189d200",
       "version_major": 2,
       "version_minor": 0
      },
      "text/plain": [
       "VBox()"
      ]
     },
     "metadata": {},
     "output_type": "display_data"
    },
    {
     "data": {
      "application/vnd.jupyter.widget-view+json": {
       "model_id": "",
       "version_major": 2,
       "version_minor": 0
      },
      "text/plain": [
       "FloatProgress(value=0.0, bar_style='info', description='Progress:', layout=Layout(height='25px', width='50%'),…"
      ]
     },
     "metadata": {},
     "output_type": "display_data"
    }
   ],
   "source": [
    "# Task 04 Cell 1 out of 1\n",
    "\n",
    "raw_recipes_df = (raw_recipes_df\n",
    "                   .withColumn('tags', F.regexp_replace(\"tags\",\"\\[|\\]|\\'\",\"\")\n",
    "                             # pyspark function to remove symbols like '[' ']' \"'\" from the strings in the tags column.\n",
    "                             )\n",
    "                   .withColumn('tags', F.split(\"tags\",\", \").cast(ArrayType(StringType()))\n",
    "                             # pyspark function to split the column using the comma delimiter.\n",
    "                             ))"
   ]
  },
  {
   "cell_type": "code",
   "execution_count": 22,
   "id": "69e3f503-6c33-4403-8f91-e729776714e8",
   "metadata": {
    "execution": {
     "iopub.execute_input": "2024-12-03T06:13:11.542729Z",
     "iopub.status.busy": "2024-12-03T06:13:11.541794Z",
     "iopub.status.idle": "2024-12-03T06:13:11.598027Z",
     "shell.execute_reply": "2024-12-03T06:13:11.597392Z",
     "shell.execute_reply.started": "2024-12-03T06:13:11.542697Z"
    }
   },
   "outputs": [
    {
     "data": {
      "application/vnd.jupyter.widget-view+json": {
       "model_id": "a806e5e62a69499cad53dcca106fd082",
       "version_major": 2,
       "version_minor": 0
      },
      "text/plain": [
       "VBox()"
      ]
     },
     "metadata": {},
     "output_type": "display_data"
    },
    {
     "data": {
      "application/vnd.jupyter.widget-view+json": {
       "model_id": "",
       "version_major": 2,
       "version_minor": 0
      },
      "text/plain": [
       "FloatProgress(value=0.0, bar_style='info', description='Progress:', layout=Layout(height='25px', width='50%'),…"
      ]
     },
     "metadata": {},
     "output_type": "display_data"
    },
    {
     "name": "stdout",
     "output_type": "stream",
     "text": [
      "root\n",
      " |-- name: string (nullable = true)\n",
      " |-- id: integer (nullable = true)\n",
      " |-- minutes: integer (nullable = true)\n",
      " |-- contributor_id: integer (nullable = true)\n",
      " |-- submitted: date (nullable = true)\n",
      " |-- tags: array (nullable = true)\n",
      " |    |-- element: string (containsNull = true)\n",
      " |-- nutrition: string (nullable = true)\n",
      " |-- n_steps: integer (nullable = true)\n",
      " |-- steps: string (nullable = true)\n",
      " |-- description: string (nullable = true)\n",
      " |-- ingredients: string (nullable = true)\n",
      " |-- n_ingredients: integer (nullable = true)\n",
      " |-- calories: float (nullable = true)\n",
      " |-- total_fat_PDV: float (nullable = true)\n",
      " |-- sugar_PDV: float (nullable = true)\n",
      " |-- sodium_PDV: float (nullable = true)\n",
      " |-- protein_PDV: float (nullable = true)\n",
      " |-- saturated_fat_PDV: float (nullable = true)\n",
      " |-- carbohydrates_PDV: float (nullable = true)\n",
      " |-- total_fat_per_100_cal: double (nullable = false)\n",
      " |-- sugar_per_100_cal: double (nullable = false)\n",
      " |-- sodium_per_100_cal: double (nullable = false)\n",
      " |-- protein_per_100_cal: double (nullable = false)\n",
      " |-- saturated_fat_per_100_cal: double (nullable = false)\n",
      " |-- carbohydrates_per_100_cal: double (nullable = false)"
     ]
    }
   ],
   "source": [
    "#checking datatype\n",
    "raw_recipes_df.printSchema()"
   ]
  },
  {
   "cell_type": "markdown",
   "id": "37a12816-6488-46dd-99fc-46cb3d26337b",
   "metadata": {},
   "source": [
    "**Test cases for Task 04**"
   ]
  },
  {
   "cell_type": "code",
   "execution_count": 23,
   "id": "5d3a0d42-f4ab-46a1-8d45-770ca59311d1",
   "metadata": {
    "execution": {
     "iopub.execute_input": "2024-12-03T06:14:14.542281Z",
     "iopub.status.busy": "2024-12-03T06:14:14.542047Z",
     "iopub.status.idle": "2024-12-03T06:14:42.007310Z",
     "shell.execute_reply": "2024-12-03T06:14:42.006604Z",
     "shell.execute_reply.started": "2024-12-03T06:14:14.542251Z"
    }
   },
   "outputs": [
    {
     "data": {
      "application/vnd.jupyter.widget-view+json": {
       "model_id": "cb02e0b0e76a4454b39b9f7ec573cc81",
       "version_major": 2,
       "version_minor": 0
      },
      "text/plain": [
       "VBox()"
      ]
     },
     "metadata": {},
     "output_type": "display_data"
    },
    {
     "data": {
      "application/vnd.jupyter.widget-view+json": {
       "model_id": "",
       "version_major": 2,
       "version_minor": 0
      },
      "text/plain": [
       "FloatProgress(value=0.0, bar_style='info', description='Progress:', layout=Layout(height='25px', width='50%'),…"
      ]
     },
     "metadata": {},
     "output_type": "display_data"
    }
   ],
   "source": [
    "# Code check cell\n",
    "# Do not edit cells with assert commands\n",
    "# If an error is shown after running this cell, please recheck your code.  \n",
    "\n",
    "assert raw_recipes_df.schema[\"tags\"].dataType == ArrayType(StringType(), True), \"You have not split the string into an array.\"\n",
    "assert raw_recipes_df.collect()[2][5] == ['time-to-make','course', 'preparation', 'main-dish', 'chili', 'crock-pot-slow-cooker', 'dietary', 'equipment', '4-hours-or-less'], \"Recheck your string cleaning and splitting operations.\""
   ]
  },
  {
   "cell_type": "markdown",
   "id": "f691d5c8-0c31-418e-a869-7cef5d760362",
   "metadata": {},
   "source": [
    "## Observations:\n",
    "Convert the tags column from a string to an array of strings."
   ]
  },
  {
   "cell_type": "markdown",
   "id": "4e85c4ab-707c-4167-995d-73b3be20d6aa",
   "metadata": {},
   "source": [
    "# Combine Recipe Data with Review Data"
   ]
  },
  {
   "cell_type": "markdown",
   "id": "d775fec0-aade-49e4-9a4d-a7e5f852ddfb",
   "metadata": {},
   "source": [
    "## <font color='red'>Task 05: Read the second data file </font>"
   ]
  },
  {
   "cell_type": "code",
   "execution_count": 24,
   "id": "44fb9be9-88e1-4e64-943b-573d64a813fa",
   "metadata": {
    "execution": {
     "iopub.execute_input": "2024-12-03T06:18:04.902606Z",
     "iopub.status.busy": "2024-12-03T06:18:04.902370Z",
     "iopub.status.idle": "2024-12-03T06:18:22.270925Z",
     "shell.execute_reply": "2024-12-03T06:18:22.269893Z",
     "shell.execute_reply.started": "2024-12-03T06:18:04.902578Z"
    }
   },
   "outputs": [
    {
     "data": {
      "application/vnd.jupyter.widget-view+json": {
       "model_id": "93ca150e2df64fbe8283fba23ba1e63c",
       "version_major": 2,
       "version_minor": 0
      },
      "text/plain": [
       "VBox()"
      ]
     },
     "metadata": {},
     "output_type": "display_data"
    },
    {
     "data": {
      "application/vnd.jupyter.widget-view+json": {
       "model_id": "",
       "version_major": 2,
       "version_minor": 0
      },
      "text/plain": [
       "FloatProgress(value=0.0, bar_style='info', description='Progress:', layout=Layout(height='25px', width='50%'),…"
      ]
     },
     "metadata": {},
     "output_type": "display_data"
    }
   ],
   "source": [
    "# Reading the second data set. \n",
    "# keep this cell unedited\n",
    "\n",
    "raw_ratings_df = (spark.read.csv(\"s3://samplesparkbucket/RAW_interactions_cleaned.csv\", \n",
    "                                 header=True, \n",
    "                                 inferSchema= True)\n",
    "                  .withColumn(\"review_date\",  F.col(\"date\"))\n",
    "                  .drop(F.col(\"date\"))\n",
    "                  )"
   ]
  },
  {
   "cell_type": "code",
   "execution_count": 25,
   "id": "c01ca4fb-25de-4d32-ae76-9d0b9f5b0035",
   "metadata": {
    "execution": {
     "iopub.execute_input": "2024-12-03T06:18:40.672115Z",
     "iopub.status.busy": "2024-12-03T06:18:40.671890Z",
     "iopub.status.idle": "2024-12-03T06:18:40.735261Z",
     "shell.execute_reply": "2024-12-03T06:18:40.734465Z",
     "shell.execute_reply.started": "2024-12-03T06:18:40.672090Z"
    }
   },
   "outputs": [
    {
     "data": {
      "application/vnd.jupyter.widget-view+json": {
       "model_id": "42316b4ce5da45549be350569c1a4722",
       "version_major": 2,
       "version_minor": 0
      },
      "text/plain": [
       "VBox()"
      ]
     },
     "metadata": {},
     "output_type": "display_data"
    },
    {
     "data": {
      "application/vnd.jupyter.widget-view+json": {
       "model_id": "",
       "version_major": 2,
       "version_minor": 0
      },
      "text/plain": [
       "FloatProgress(value=0.0, bar_style='info', description='Progress:', layout=Layout(height='25px', width='50%'),…"
      ]
     },
     "metadata": {},
     "output_type": "display_data"
    },
    {
     "name": "stdout",
     "output_type": "stream",
     "text": [
      "root\n",
      " |-- user_id: integer (nullable = true)\n",
      " |-- recipe_id: integer (nullable = true)\n",
      " |-- rating: integer (nullable = true)\n",
      " |-- review: string (nullable = true)\n",
      " |-- review_date: date (nullable = true)"
     ]
    }
   ],
   "source": [
    "raw_ratings_df.printSchema()"
   ]
  },
  {
   "cell_type": "code",
   "execution_count": 26,
   "id": "abbb86bc-eee7-47f8-81b5-9cb1b501ccb2",
   "metadata": {
    "execution": {
     "iopub.execute_input": "2024-12-03T06:18:58.712600Z",
     "iopub.status.busy": "2024-12-03T06:18:58.712343Z",
     "iopub.status.idle": "2024-12-03T06:19:04.099067Z",
     "shell.execute_reply": "2024-12-03T06:19:04.098415Z",
     "shell.execute_reply.started": "2024-12-03T06:18:58.712572Z"
    }
   },
   "outputs": [
    {
     "data": {
      "application/vnd.jupyter.widget-view+json": {
       "model_id": "2bf38982d09e4439a4221ce36f97ef9a",
       "version_major": 2,
       "version_minor": 0
      },
      "text/plain": [
       "VBox()"
      ]
     },
     "metadata": {},
     "output_type": "display_data"
    },
    {
     "data": {
      "application/vnd.jupyter.widget-view+json": {
       "model_id": "",
       "version_major": 2,
       "version_minor": 0
      },
      "text/plain": [
       "FloatProgress(value=0.0, bar_style='info', description='Progress:', layout=Layout(height='25px', width='50%'),…"
      ]
     },
     "metadata": {},
     "output_type": "display_data"
    }
   ],
   "source": [
    "# Code check cell\n",
    "# Do not edit cells with assert commands\n",
    "# If an error is shown after running this cell, please recheck your code.  \n",
    "\n",
    "assert raw_ratings_df.count() == 1132367, \"There is a mistake in reading the data.\"\n",
    "assert len(raw_ratings_df.columns) == 5, \"There is a mistake in reading the data.\""
   ]
  },
  {
   "cell_type": "code",
   "execution_count": 27,
   "id": "fbe46f51-b4e9-49ad-b60f-4032609a4a02",
   "metadata": {
    "execution": {
     "iopub.execute_input": "2024-12-03T06:19:46.231857Z",
     "iopub.status.busy": "2024-12-03T06:19:46.231606Z",
     "iopub.status.idle": "2024-12-03T06:19:47.018055Z",
     "shell.execute_reply": "2024-12-03T06:19:47.017385Z",
     "shell.execute_reply.started": "2024-12-03T06:19:46.231829Z"
    }
   },
   "outputs": [
    {
     "data": {
      "application/vnd.jupyter.widget-view+json": {
       "model_id": "cc4f95a45fa44ee4b3a43c8b7a0ca5fb",
       "version_major": 2,
       "version_minor": 0
      },
      "text/plain": [
       "VBox()"
      ]
     },
     "metadata": {},
     "output_type": "display_data"
    },
    {
     "data": {
      "application/vnd.jupyter.widget-view+json": {
       "model_id": "",
       "version_major": 2,
       "version_minor": 0
      },
      "text/plain": [
       "FloatProgress(value=0.0, bar_style='info', description='Progress:', layout=Layout(height='25px', width='50%'),…"
      ]
     },
     "metadata": {},
     "output_type": "display_data"
    },
    {
     "name": "stdout",
     "output_type": "stream",
     "text": [
      "+-------+---------+------+--------------------+-----------+\n",
      "|user_id|recipe_id|rating|              review|review_date|\n",
      "+-------+---------+------+--------------------+-----------+\n",
      "|  38094|    40893|     4|Great with a sala...| 2003-02-17|\n",
      "|1293707|    40893|     5|So simple  so del...| 2011-12-21|\n",
      "|   8937|    44394|     4|This worked very ...| 2002-12-01|\n",
      "| 126440|    85009|     5|I made the Mexica...| 2010-02-27|\n",
      "|  57222|    85009|     5|Made the cheddar ...| 2011-10-01|\n",
      "+-------+---------+------+--------------------+-----------+\n",
      "only showing top 5 rows"
     ]
    }
   ],
   "source": [
    "raw_ratings_df.show(5)"
   ]
  },
  {
   "cell_type": "markdown",
   "id": "8fc51bb4-378f-4517-94ef-604f7c2bf936",
   "metadata": {
    "execution": {
     "iopub.execute_input": "2024-12-03T06:21:27.131999Z",
     "iopub.status.busy": "2024-12-03T06:21:27.131769Z",
     "iopub.status.idle": "2024-12-03T06:21:27.194571Z",
     "shell.execute_reply": "2024-12-03T06:21:27.193852Z",
     "shell.execute_reply.started": "2024-12-03T06:21:27.131971Z"
    }
   },
   "source": [
    "### <font color='blue'>Solution to Task 5 </font>\n",
    "\n",
    "<font color='blue'>Complete the code in the following cell</font>"
   ]
  },
  {
   "cell_type": "code",
   "execution_count": 28,
   "id": "015f64c0-5fb3-4ead-ad23-83fedbf37180",
   "metadata": {
    "execution": {
     "iopub.execute_input": "2024-12-03T06:21:54.242172Z",
     "iopub.status.busy": "2024-12-03T06:21:54.241937Z",
     "iopub.status.idle": "2024-12-03T06:21:54.506358Z",
     "shell.execute_reply": "2024-12-03T06:21:54.505742Z",
     "shell.execute_reply.started": "2024-12-03T06:21:54.242145Z"
    }
   },
   "outputs": [
    {
     "data": {
      "application/vnd.jupyter.widget-view+json": {
       "model_id": "24e2ff3e5ea545a6b919203db15c5015",
       "version_major": 2,
       "version_minor": 0
      },
      "text/plain": [
       "VBox()"
      ]
     },
     "metadata": {},
     "output_type": "display_data"
    },
    {
     "data": {
      "application/vnd.jupyter.widget-view+json": {
       "model_id": "",
       "version_major": 2,
       "version_minor": 0
      },
      "text/plain": [
       "FloatProgress(value=0.0, bar_style='info', description='Progress:', layout=Layout(height='25px', width='50%'),…"
      ]
     },
     "metadata": {},
     "output_type": "display_data"
    }
   ],
   "source": [
    "# Task 05 Cell 1 out of 1\n",
    "\n",
    "interaction_level_df = raw_ratings_df.join(raw_recipes_df, raw_ratings_df.recipe_id==raw_recipes_df.id,\"inner\"\n",
    "                                           # add the key on which the join should happen\n",
    "                                           # mention the type of join expected. \n",
    "                                           )"
   ]
  },
  {
   "cell_type": "code",
   "execution_count": 29,
   "id": "3b424ed7-6814-4926-a5ba-9b3b3f8ebfc2",
   "metadata": {
    "execution": {
     "iopub.execute_input": "2024-12-03T06:22:24.672764Z",
     "iopub.status.busy": "2024-12-03T06:22:24.672499Z",
     "iopub.status.idle": "2024-12-03T06:22:52.167796Z",
     "shell.execute_reply": "2024-12-03T06:22:52.167049Z",
     "shell.execute_reply.started": "2024-12-03T06:22:24.672724Z"
    }
   },
   "outputs": [
    {
     "data": {
      "application/vnd.jupyter.widget-view+json": {
       "model_id": "597724ae41f7406a88b11bf051d60433",
       "version_major": 2,
       "version_minor": 0
      },
      "text/plain": [
       "VBox()"
      ]
     },
     "metadata": {},
     "output_type": "display_data"
    },
    {
     "data": {
      "application/vnd.jupyter.widget-view+json": {
       "model_id": "",
       "version_major": 2,
       "version_minor": 0
      },
      "text/plain": [
       "FloatProgress(value=0.0, bar_style='info', description='Progress:', layout=Layout(height='25px', width='50%'),…"
      ]
     },
     "metadata": {},
     "output_type": "display_data"
    },
    {
     "name": "stdout",
     "output_type": "stream",
     "text": [
      "+-------+---------+------+--------------------+-----------+--------------------+---+-------+--------------+----------+--------------------+--------------------+-------+--------------------+--------------------+--------------------+-------------+--------+-------------+---------+----------+-----------+-----------------+-----------------+---------------------+-------------------+------------------+-------------------+-------------------------+-------------------------+\n",
      "|user_id|recipe_id|rating|              review|review_date|                name| id|minutes|contributor_id| submitted|                tags|           nutrition|n_steps|               steps|         description|         ingredients|n_ingredients|calories|total_fat_PDV|sugar_PDV|sodium_PDV|protein_PDV|saturated_fat_PDV|carbohydrates_PDV|total_fat_per_100_cal|  sugar_per_100_cal|sodium_per_100_cal|protein_per_100_cal|saturated_fat_per_100_cal|carbohydrates_per_100_cal|\n",
      "+-------+---------+------+--------------------+-----------+--------------------+---+-------+--------------+----------+--------------------+--------------------+-------+--------------------+--------------------+--------------------+-------------+--------+-------------+---------+----------+-----------+-----------------+-----------------+---------------------+-------------------+------------------+-------------------+-------------------------+-------------------------+\n",
      "| 269153|       81|     5|This is FANTASTIC...| 2006-03-09|all purpose quick...| 81|     40|        125579|1999-09-10|[60-minutes-or-le...|529.3, 37.0, 1.0,...|     36|['blend flours , ...|--adopted recipe-...|['whole wheat flo...|            5|   529.3|         37.0|      1.0|      36.0|       22.0|             73.0|             23.0|   6.9903647937494835|0.18892877820944548|6.8014360155400375|  4.156433120607801|       13.791800809289521|        4.345361898817246|\n",
      "| 985729|       81|     5|I have made sever...| 2010-05-23|all purpose quick...| 81|     40|        125579|1999-09-10|[60-minutes-or-le...|529.3, 37.0, 1.0,...|     36|['blend flours , ...|--adopted recipe-...|['whole wheat flo...|            5|   529.3|         37.0|      1.0|      36.0|       22.0|             73.0|             23.0|   6.9903647937494835|0.18892877820944548|6.8014360155400375|  4.156433120607801|       13.791800809289521|        4.345361898817246|\n",
      "| 985823|      122|     5|Awesome is what c...| 2010-05-25|commissary carrot...|122|    240|          1589|1999-09-09|[weeknight, time-...|1011.8, 103.0, 32...|     34|['in a heavy sauc...|best in the world...|['sugar', 'flour'...|           18|  1011.8|        103.0|    320.0|      16.0|       14.0|            141.0|             33.0|   10.179877568952445| 31.626804097716334|1.5813402048858167| 1.3836726792750895|        13.93556055555626|       3.2615141725769967|\n",
      "|1294602|      122|     5|I use this recipe...| 2010-07-12|commissary carrot...|122|    240|          1589|1999-09-09|[weeknight, time-...|1011.8, 103.0, 32...|     34|['in a heavy sauc...|best in the world...|['sugar', 'flour'...|           18|  1011.8|        103.0|    320.0|      16.0|       14.0|            141.0|             33.0|   10.179877568952445| 31.626804097716334|1.5813402048858167| 1.3836726792750895|        13.93556055555626|       3.2615141725769967|\n",
      "| 851190|      126|     5|Dinner was extra ...| 2010-05-25|carnation lean fe...|126|     40|          1556|1999-08-14|[60-minutes-or-le...|535.7, 24.0, 9.0,...|      9|['in a large pot ...|                    |['fettuccine', 'o...|           13|   535.7|         24.0|      9.0|      24.0|       57.0|             37.0|             23.0|    4.480119367763754| 1.6800447629114077| 4.480119367763754| 10.640283498438915|        6.906850691969121|        4.293447727440264|\n",
      "+-------+---------+------+--------------------+-----------+--------------------+---+-------+--------------+----------+--------------------+--------------------+-------+--------------------+--------------------+--------------------+-------------+--------+-------------+---------+----------+-----------+-----------------+-----------------+---------------------+-------------------+------------------+-------------------+-------------------------+-------------------------+\n",
      "only showing top 5 rows"
     ]
    }
   ],
   "source": [
    "interaction_level_df.show(5)"
   ]
  },
  {
   "cell_type": "code",
   "execution_count": 30,
   "id": "8a537329-083a-4525-8854-fe87cd932a50",
   "metadata": {
    "execution": {
     "iopub.execute_input": "2024-12-03T06:23:18.552144Z",
     "iopub.status.busy": "2024-12-03T06:23:18.551924Z",
     "iopub.status.idle": "2024-12-03T06:23:27.919551Z",
     "shell.execute_reply": "2024-12-03T06:23:27.918778Z",
     "shell.execute_reply.started": "2024-12-03T06:23:18.552118Z"
    }
   },
   "outputs": [
    {
     "data": {
      "application/vnd.jupyter.widget-view+json": {
       "model_id": "3647005b0a1642718b8e51ed3e5aa82e",
       "version_major": 2,
       "version_minor": 0
      },
      "text/plain": [
       "VBox()"
      ]
     },
     "metadata": {},
     "output_type": "display_data"
    },
    {
     "data": {
      "application/vnd.jupyter.widget-view+json": {
       "model_id": "",
       "version_major": 2,
       "version_minor": 0
      },
      "text/plain": [
       "FloatProgress(value=0.0, bar_style='info', description='Progress:', layout=Layout(height='25px', width='50%'),…"
      ]
     },
     "metadata": {},
     "output_type": "display_data"
    },
    {
     "name": "stdout",
     "output_type": "stream",
     "text": [
      "1132367"
     ]
    }
   ],
   "source": [
    "#Checking the row count of joined dataframe\n",
    "interaction_level_df.count()"
   ]
  },
  {
   "cell_type": "code",
   "execution_count": 31,
   "id": "df3fe844-faa9-4ce2-b873-f924c6f0053e",
   "metadata": {
    "execution": {
     "iopub.execute_input": "2024-12-03T06:23:31.172051Z",
     "iopub.status.busy": "2024-12-03T06:23:31.171832Z",
     "iopub.status.idle": "2024-12-03T06:23:31.225793Z",
     "shell.execute_reply": "2024-12-03T06:23:31.224911Z",
     "shell.execute_reply.started": "2024-12-03T06:23:31.172027Z"
    }
   },
   "outputs": [
    {
     "data": {
      "application/vnd.jupyter.widget-view+json": {
       "model_id": "210719c92ec242238a7b7a8be7f293db",
       "version_major": 2,
       "version_minor": 0
      },
      "text/plain": [
       "VBox()"
      ]
     },
     "metadata": {},
     "output_type": "display_data"
    },
    {
     "data": {
      "application/vnd.jupyter.widget-view+json": {
       "model_id": "",
       "version_major": 2,
       "version_minor": 0
      },
      "text/plain": [
       "FloatProgress(value=0.0, bar_style='info', description='Progress:', layout=Layout(height='25px', width='50%'),…"
      ]
     },
     "metadata": {},
     "output_type": "display_data"
    },
    {
     "name": "stdout",
     "output_type": "stream",
     "text": [
      "30"
     ]
    }
   ],
   "source": [
    "# Checking number of columns of joined dataframe\n",
    "len(interaction_level_df.columns)"
   ]
  },
  {
   "cell_type": "markdown",
   "id": "53f6eade-adc2-44fa-b607-cd0652a22a00",
   "metadata": {
    "execution": {
     "iopub.execute_input": "2024-12-03T06:23:40.672361Z",
     "iopub.status.busy": "2024-12-03T06:23:40.672143Z",
     "iopub.status.idle": "2024-12-03T06:23:40.733813Z",
     "shell.execute_reply": "2024-12-03T06:23:40.732223Z",
     "shell.execute_reply.started": "2024-12-03T06:23:40.672337Z"
    }
   },
   "source": [
    "**Test cases for Task 05**"
   ]
  },
  {
   "cell_type": "code",
   "execution_count": 32,
   "id": "8f526c06-305c-4aa1-9b59-a6f0d31fdf50",
   "metadata": {
    "execution": {
     "iopub.execute_input": "2024-12-03T06:24:02.162831Z",
     "iopub.status.busy": "2024-12-03T06:24:02.162605Z",
     "iopub.status.idle": "2024-12-03T06:24:23.698754Z",
     "shell.execute_reply": "2024-12-03T06:24:23.697889Z",
     "shell.execute_reply.started": "2024-12-03T06:24:02.162805Z"
    }
   },
   "outputs": [
    {
     "data": {
      "application/vnd.jupyter.widget-view+json": {
       "model_id": "7d8ded901b98482cb0c6a5f82d85f7a2",
       "version_major": 2,
       "version_minor": 0
      },
      "text/plain": [
       "VBox()"
      ]
     },
     "metadata": {},
     "output_type": "display_data"
    },
    {
     "data": {
      "application/vnd.jupyter.widget-view+json": {
       "model_id": "",
       "version_major": 2,
       "version_minor": 0
      },
      "text/plain": [
       "FloatProgress(value=0.0, bar_style='info', description='Progress:', layout=Layout(height='25px', width='50%'),…"
      ]
     },
     "metadata": {},
     "output_type": "display_data"
    }
   ],
   "source": [
    "# Code check cell\n",
    "# Do not edit cells with assert commands\n",
    "# If an error is shown after running this cell, please recheck your code.  \n",
    "\n",
    "assert (interaction_level_df.count() ,len(interaction_level_df.columns)) == (1132367, 30), \"The type of join is incorrect\"\n",
    "\n",
    "list1 = raw_ratings_df.select('recipe_id').collect()\n",
    "list2 = raw_recipes_df.select('id').collect()\n",
    "exclusive_set = set(list1)-set(list2)\n",
    "\n",
    "assert len(exclusive_set) == 0, \"There is a mistake in reading one of the two data files.\""
   ]
  },
  {
   "cell_type": "markdown",
   "id": "e1673f1c-a846-41a5-bb8e-776e1e8fcf83",
   "metadata": {
    "execution": {
     "iopub.execute_input": "2024-12-03T06:25:03.732099Z",
     "iopub.status.busy": "2024-12-03T06:25:03.731848Z",
     "iopub.status.idle": "2024-12-03T06:25:03.791089Z",
     "shell.execute_reply": "2024-12-03T06:25:03.790451Z",
     "shell.execute_reply.started": "2024-12-03T06:25:03.732071Z"
    }
   },
   "source": [
    "### Observations:\n",
    "* Joined two dataframes successfully"
   ]
  },
  {
   "cell_type": "markdown",
   "id": "5f57c172-ad6d-4b0f-b7c6-e68cbd7b454c",
   "metadata": {
    "execution": {
     "iopub.execute_input": "2024-12-03T06:25:20.822234Z",
     "iopub.status.busy": "2024-12-03T06:25:20.821972Z",
     "iopub.status.idle": "2024-12-03T06:25:20.875925Z",
     "shell.execute_reply": "2024-12-03T06:25:20.875220Z",
     "shell.execute_reply.started": "2024-12-03T06:25:20.822206Z"
    },
    "tags": []
   },
   "source": [
    "## <font color='red'>Task 06:  Create time-based features</font>"
   ]
  },
  {
   "cell_type": "markdown",
   "id": "96119c9f-3286-4f1f-8c09-d32d0f50d2f2",
   "metadata": {},
   "source": [
    "### <font color='blue'>Solution to Task 6 </font>\n",
    "\n",
    "<font color='blue'>Complete the code in the following cell</font>"
   ]
  },
  {
   "cell_type": "markdown",
   "id": "52e2db6f-830d-4580-bf47-006c0fc7be7f",
   "metadata": {
    "execution": {
     "iopub.execute_input": "2024-12-03T06:26:01.983368Z",
     "iopub.status.busy": "2024-12-03T06:26:01.983137Z",
     "iopub.status.idle": "2024-12-03T06:26:02.247164Z",
     "shell.execute_reply": "2024-12-03T06:26:02.246457Z",
     "shell.execute_reply.started": "2024-12-03T06:26:01.983343Z"
    }
   },
   "source": [
    "# Task 06 Cell 1 out of 2\n",
    "\n",
    "interaction_level_df = (interaction_level_df\n",
    "                        .withColumn('submitted', F.col(\"submitted\").cast(\"date\") # pyspark function to cast a column to DateType()\n",
    "                                   )\n",
    "                        .withColumn('review_date', F.col(\"review_date\").cast(\"date\") # pyspark function to cast a column to DateType()\n",
    "                                   )\n",
    "                                             \n",
    "                       )"
   ]
  },
  {
   "cell_type": "code",
   "execution_count": 49,
   "id": "494f008d-a2d7-4d40-8b2a-b3fff230a6d5",
   "metadata": {
    "execution": {
     "iopub.execute_input": "2024-12-03T06:26:59.713134Z",
     "iopub.status.busy": "2024-12-03T06:26:59.712887Z",
     "iopub.status.idle": "2024-12-03T06:26:59.978191Z",
     "shell.execute_reply": "2024-12-03T06:26:59.977581Z",
     "shell.execute_reply.started": "2024-12-03T06:26:59.713096Z"
    }
   },
   "outputs": [
    {
     "data": {
      "application/vnd.jupyter.widget-view+json": {
       "model_id": "2929db06f99042d68cfdea185bb08a44",
       "version_major": 2,
       "version_minor": 0
      },
      "text/plain": [
       "VBox()"
      ]
     },
     "metadata": {},
     "output_type": "display_data"
    },
    {
     "data": {
      "application/vnd.jupyter.widget-view+json": {
       "model_id": "",
       "version_major": 2,
       "version_minor": 0
      },
      "text/plain": [
       "FloatProgress(value=0.0, bar_style='info', description='Progress:', layout=Layout(height='25px', width='50%'),…"
      ]
     },
     "metadata": {},
     "output_type": "display_data"
    }
   ],
   "source": [
    "# Task 06 Cell 1 out of 2\n",
    "\n",
    "interaction_level_df = (interaction_level_df\n",
    "                        .withColumn('submitted', F.col(\"submitted\").cast(\"date\") # pyspark function to cast a column to DateType()\n",
    "                                   )\n",
    "                        .withColumn('review_date', F.col(\"review_date\").cast(\"date\") # pyspark function to cast a column to DateType()\n",
    "                                   )\n",
    "                                             \n",
    "                       )"
   ]
  },
  {
   "cell_type": "code",
   "execution_count": 50,
   "id": "3fb21b43",
   "metadata": {},
   "outputs": [
    {
     "data": {
      "application/vnd.jupyter.widget-view+json": {
       "model_id": "1b6a251371dd4257856ed0bef791ac0d",
       "version_major": 2,
       "version_minor": 0
      },
      "text/plain": [
       "VBox()"
      ]
     },
     "metadata": {},
     "output_type": "display_data"
    },
    {
     "data": {
      "application/vnd.jupyter.widget-view+json": {
       "model_id": "",
       "version_major": 2,
       "version_minor": 0
      },
      "text/plain": [
       "FloatProgress(value=0.0, bar_style='info', description='Progress:', layout=Layout(height='25px', width='50%'),…"
      ]
     },
     "metadata": {},
     "output_type": "display_data"
    }
   ],
   "source": [
    "interaction_level_df = (interaction_level_df\n",
    "                        .withColumn('days_since_submission_on_review_date',F.datediff(\"review_date\",\"submitted\")\n",
    "                                     # Pyspark function to find the number of days between two dates              \n",
    "                                   )\n",
    "                        .withColumn('months_since_submission_on_review_date',F.months_between(\"review_date\",\"submitted\")\n",
    "                                     # Pyspark function to find the number of months between two dates          \n",
    "                                   )\n",
    "                        .withColumn('years_since_submission_on_review_date',F.months_between(\"review_date\",\"submitted\")/12\n",
    "                                     # Pyspark function to find the number of months between two dates / 12          \n",
    "                                   )\n",
    "                         )"
   ]
  },
  {
   "cell_type": "markdown",
   "id": "cc1815fa-8d19-42f5-9635-04f945207ead",
   "metadata": {
    "execution": {
     "iopub.execute_input": "2024-12-03T06:27:19.013002Z",
     "iopub.status.busy": "2024-12-03T06:27:19.012710Z",
     "iopub.status.idle": "2024-12-03T06:27:19.067258Z",
     "shell.execute_reply": "2024-12-03T06:27:19.066421Z",
     "shell.execute_reply.started": "2024-12-03T06:27:19.012970Z"
    }
   },
   "source": [
    "**Test cases for Task 06**"
   ]
  },
  {
   "cell_type": "code",
   "execution_count": 51,
   "id": "a8c81256-d1a5-43f1-bb95-863e1e902a65",
   "metadata": {
    "execution": {
     "iopub.execute_input": "2024-12-03T06:27:46.823306Z",
     "iopub.status.busy": "2024-12-03T06:27:46.823023Z",
     "iopub.status.idle": "2024-12-03T06:28:18.563209Z",
     "shell.execute_reply": "2024-12-03T06:28:18.562519Z",
     "shell.execute_reply.started": "2024-12-03T06:27:46.823277Z"
    }
   },
   "outputs": [
    {
     "data": {
      "application/vnd.jupyter.widget-view+json": {
       "model_id": "a8585930bb604d90b16cf94229cc5fb6",
       "version_major": 2,
       "version_minor": 0
      },
      "text/plain": [
       "VBox()"
      ]
     },
     "metadata": {},
     "output_type": "display_data"
    },
    {
     "data": {
      "application/vnd.jupyter.widget-view+json": {
       "model_id": "",
       "version_major": 2,
       "version_minor": 0
      },
      "text/plain": [
       "FloatProgress(value=0.0, bar_style='info', description='Progress:', layout=Layout(height='25px', width='50%'),…"
      ]
     },
     "metadata": {},
     "output_type": "display_data"
    }
   ],
   "source": [
    "# Code check cell\n",
    "# Do not edit cells with assert commands\n",
    "# If an error is shown after running this cell, please recheck your code.  \n",
    "\n",
    "assert interaction_level_df.schema[\"days_since_submission_on_review_date\"].dataType == IntegerType()\n",
    "\n",
    "assert (interaction_level_df.filter((interaction_level_df.user_id == 428885) & (interaction_level_df.recipe_id == 335241))\n",
    "                            .select('days_since_submission_on_review_date').collect()[0][0]) == 77\n",
    "assert (interaction_level_df.filter((interaction_level_df.user_id == 2025676) & (interaction_level_df.recipe_id == 94265))\n",
    "                            .select('months_since_submission_on_review_date').collect()[0][0]) == 153.22580645\n",
    "assert (interaction_level_df.filter((interaction_level_df.user_id == 338588) & (interaction_level_df.recipe_id == 21859))\n",
    "                            .select('years_since_submission_on_review_date').collect()[0][0]) == 4.564516129166667"
   ]
  },
  {
   "cell_type": "markdown",
   "id": "8b7575f9-b1ef-434e-8c0b-4c40e47bed11",
   "metadata": {},
   "source": [
    "## Observations:\n",
    "Time-based features have been created: days_since_submission_on_review_date, months_since_submission_on_review_date, and years_since_submission_on_review_date.\n",
    "\n",
    "\n",
    "\n",
    "\n",
    "\n"
   ]
  },
  {
   "cell_type": "markdown",
   "id": "0e14a52d-db6f-47c5-a688-5b9b93feb352",
   "metadata": {},
   "source": [
    "## Save the data we have created so far in a parquet file. "
   ]
  },
  {
   "cell_type": "code",
   "execution_count": 52,
   "id": "9e2fb886-1cb8-45e7-838e-4973d285241e",
   "metadata": {
    "execution": {
     "iopub.execute_input": "2024-12-03T06:29:55.512862Z",
     "iopub.status.busy": "2024-12-03T06:29:55.512618Z",
     "iopub.status.idle": "2024-12-03T06:29:55.570781Z",
     "shell.execute_reply": "2024-12-03T06:29:55.569800Z",
     "shell.execute_reply.started": "2024-12-03T06:29:55.512834Z"
    }
   },
   "outputs": [
    {
     "data": {
      "application/vnd.jupyter.widget-view+json": {
       "model_id": "e2e8567051904825a10653b233b8d3e1",
       "version_major": 2,
       "version_minor": 0
      },
      "text/plain": [
       "VBox()"
      ]
     },
     "metadata": {},
     "output_type": "display_data"
    },
    {
     "data": {
      "application/vnd.jupyter.widget-view+json": {
       "model_id": "",
       "version_major": 2,
       "version_minor": 0
      },
      "text/plain": [
       "FloatProgress(value=0.0, bar_style='info', description='Progress:', layout=Layout(height='25px', width='50%'),…"
      ]
     },
     "metadata": {},
     "output_type": "display_data"
    },
    {
     "name": "stdout",
     "output_type": "stream",
     "text": [
      "root\n",
      " |-- user_id: integer (nullable = true)\n",
      " |-- recipe_id: integer (nullable = true)\n",
      " |-- rating: integer (nullable = true)\n",
      " |-- review: string (nullable = true)\n",
      " |-- review_date: date (nullable = true)\n",
      " |-- name: string (nullable = true)\n",
      " |-- id: integer (nullable = true)\n",
      " |-- minutes: integer (nullable = true)\n",
      " |-- contributor_id: integer (nullable = true)\n",
      " |-- submitted: date (nullable = true)\n",
      " |-- tags: array (nullable = true)\n",
      " |    |-- element: string (containsNull = true)\n",
      " |-- nutrition: string (nullable = true)\n",
      " |-- n_steps: integer (nullable = true)\n",
      " |-- steps: string (nullable = true)\n",
      " |-- description: string (nullable = true)\n",
      " |-- ingredients: string (nullable = true)\n",
      " |-- n_ingredients: integer (nullable = true)\n",
      " |-- calories: float (nullable = true)\n",
      " |-- total_fat_PDV: float (nullable = true)\n",
      " |-- sugar_PDV: float (nullable = true)\n",
      " |-- sodium_PDV: float (nullable = true)\n",
      " |-- protein_PDV: float (nullable = true)\n",
      " |-- saturated_fat_PDV: float (nullable = true)\n",
      " |-- carbohydrates_PDV: float (nullable = true)\n",
      " |-- total_fat_per_100_cal: double (nullable = false)\n",
      " |-- sugar_per_100_cal: double (nullable = false)\n",
      " |-- sodium_per_100_cal: double (nullable = false)\n",
      " |-- protein_per_100_cal: double (nullable = false)\n",
      " |-- saturated_fat_per_100_cal: double (nullable = false)\n",
      " |-- carbohydrates_per_100_cal: double (nullable = false)\n",
      " |-- days_since_submission_on_review_date: integer (nullable = true)\n",
      " |-- months_since_submission_on_review_date: double (nullable = true)\n",
      " |-- years_since_submission_on_review_date: double (nullable = true)"
     ]
    }
   ],
   "source": [
    "#checking datatypes\n",
    "interaction_level_df.printSchema()"
   ]
  },
  {
   "cell_type": "code",
   "execution_count": 53,
   "id": "9147781f-f9b8-4b1a-a772-eb5d30c95a63",
   "metadata": {
    "execution": {
     "iopub.execute_input": "2024-12-03T06:30:11.778600Z",
     "iopub.status.busy": "2024-12-03T06:30:11.778290Z",
     "iopub.status.idle": "2024-12-03T06:30:29.139146Z",
     "shell.execute_reply": "2024-12-03T06:30:29.138285Z",
     "shell.execute_reply.started": "2024-12-03T06:30:11.778562Z"
    }
   },
   "outputs": [
    {
     "data": {
      "application/vnd.jupyter.widget-view+json": {
       "model_id": "313e709bc17845f782daf7e1dfc56e9d",
       "version_major": 2,
       "version_minor": 0
      },
      "text/plain": [
       "VBox()"
      ]
     },
     "metadata": {},
     "output_type": "display_data"
    },
    {
     "data": {
      "application/vnd.jupyter.widget-view+json": {
       "model_id": "",
       "version_major": 2,
       "version_minor": 0
      },
      "text/plain": [
       "FloatProgress(value=0.0, bar_style='info', description='Progress:', layout=Layout(height='25px', width='50%'),…"
      ]
     },
     "metadata": {},
     "output_type": "display_data"
    }
   ],
   "source": [
    "assert (interaction_level_df.count() ,len(interaction_level_df.columns) ) == (1132367, 33)"
   ]
  },
  {
   "cell_type": "code",
   "execution_count": 54,
   "id": "245cb2f9-2c39-4f21-9c5f-89386da6c80d",
   "metadata": {},
   "outputs": [
    {
     "data": {
      "application/vnd.jupyter.widget-view+json": {
       "model_id": "cd216bc31f2848b685450517614ca9dd",
       "version_major": 2,
       "version_minor": 0
      },
      "text/plain": [
       "VBox()"
      ]
     },
     "metadata": {},
     "output_type": "display_data"
    },
    {
     "data": {
      "application/vnd.jupyter.widget-view+json": {
       "model_id": "",
       "version_major": 2,
       "version_minor": 0
      },
      "text/plain": [
       "FloatProgress(value=0.0, bar_style='info', description='Progress:', layout=Layout(height='25px', width='50%'),…"
      ]
     },
     "metadata": {},
     "output_type": "display_data"
    }
   ],
   "source": [
    "## Write the raw_recipes_df\n",
    "## create a folder named data in you current directry before running this. \n",
    "\n",
    "interaction_level_df.write.mode('overwrite').parquet('s3://samplesparkbucket/Data/interaction_level_df_processed.parquet') # Modify the path as you need"
   ]
  },
  {
   "cell_type": "code",
   "execution_count": 57,
   "id": "e00968f0",
   "metadata": {},
   "outputs": [
    {
     "data": {
      "application/vnd.jupyter.widget-view+json": {
       "model_id": "0db471cf1aaa4687bfeac18898f0a72b",
       "version_major": 2,
       "version_minor": 0
      },
      "text/plain": [
       "VBox()"
      ]
     },
     "metadata": {},
     "output_type": "display_data"
    },
    {
     "data": {
      "application/vnd.jupyter.widget-view+json": {
       "model_id": "",
       "version_major": 2,
       "version_minor": 0
      },
      "text/plain": [
       "FloatProgress(value=0.0, bar_style='info', description='Progress:', layout=Layout(height='25px', width='50%'),…"
      ]
     },
     "metadata": {},
     "output_type": "display_data"
    },
    {
     "name": "stdout",
     "output_type": "stream",
     "text": [
      "+-------+---------+------+--------------------------------------------------------------------------------------------------------------------------------------------------------------------------------------------------------------------------------------------------------------------------------------------------------------------------------------------------------------------------------------------------------------------------------+\n",
      "|user_id|recipe_id|rating|review                                                                                                                                                                                                                                                                                                                                                                                                                          |\n",
      "+-------+---------+------+--------------------------------------------------------------------------------------------------------------------------------------------------------------------------------------------------------------------------------------------------------------------------------------------------------------------------------------------------------------------------------------------------------------------------------+\n",
      "|180956 |82529    |4     |Great recipe.  Used for christmas gifts.  Will use again                                                                                                                                                                                                                                                                                                                                                                        |\n",
      "|704950 |319929   |5     |This is great!!!!  I didn't think it was a crazy idea at all  that's why I tried it!!  I knew this would make a great flavor combination but you don't know how good until you taste it!!!  I love the slightly sweet taste of the pear with the saltiness of the ham and the cheese.  The honey mustard mayo is really really good paired with this too!!  Loved it  will definitely make again!!!!                            |\n",
      "|593513 |319929   |5     |These were absolutely delicious!!! Fruit and cheese are wonderfull together then add the great flavor of the ham...mmmm....good stuff. I really loved the taste of the pear.  The mustard and honey mixture went beautiful with this. I had used Stoneground Rye bread from Panera Bread and had used my panini machine. It all turned out delicious. I will be making this again many times. Thanks so much for sharing DivineL|\n",
      "|906665 |319929   |5     |So good. I made it with freshly baked ciabatta bread and grilled it like a panini. Loved it!                                                                                                                                                                                                                                                                                                                                    |\n",
      "|383346 |10817    |5     |This lasagna is delicious.  But I won't do the layers that goes on top at the end.  Cause they turned too crispy.  In the sauce I added 14 ounces of diced tomatoes and at the end  I didn't have enough sauce to spoon on top so I added another 14 ounces of diced tomatoes.  DS loved it.  He was eating and saying : this is good.  Thanks Kiwidutch.  Made for Please Review My Recipe.                                    |\n",
      "+-------+---------+------+--------------------------------------------------------------------------------------------------------------------------------------------------------------------------------------------------------------------------------------------------------------------------------------------------------------------------------------------------------------------------------------------------------------------------------+\n",
      "only showing top 5 rows"
     ]
    }
   ],
   "source": [
    "#Displaying the first 5 records of the processed DataFrame.\n",
    "interaction_level_df.select(\"user_id\", \"recipe_id\", \"rating\",\"review\").show(5, truncate=False)\n"
   ]
  },
  {
   "cell_type": "code",
   "execution_count": null,
   "id": "e0b8220f",
   "metadata": {},
   "outputs": [],
   "source": []
  }
 ],
 "metadata": {
  "kernelspec": {
   "display_name": "PySpark",
   "language": "python",
   "name": "pysparkkernel"
  },
  "language_info": {
   "codemirror_mode": {
    "name": "python",
    "version": 3
   },
   "file_extension": ".py",
   "mimetype": "text/x-python",
   "name": "pyspark",
   "pygments_lexer": "python3"
  }
 },
 "nbformat": 4,
 "nbformat_minor": 5
}
